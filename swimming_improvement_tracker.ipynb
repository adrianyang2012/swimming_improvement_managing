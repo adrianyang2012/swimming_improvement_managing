{
  "nbformat": 4,
  "nbformat_minor": 0,
  "metadata": {
    "colab": {
      "private_outputs": true,
      "provenance": [],
      "authorship_tag": "ABX9TyP2NvQ+TtNn82kuELiIwK9I",
      "include_colab_link": true
    },
    "kernelspec": {
      "name": "python3",
      "display_name": "Python 3"
    },
    "language_info": {
      "name": "python"
    }
  },
  "cells": [
    {
      "cell_type": "markdown",
      "metadata": {
        "id": "view-in-github",
        "colab_type": "text"
      },
      "source": [
        "<a href=\"https://colab.research.google.com/github/adrianyang2012/swimming_improvement_managing/blob/main/swimming_improvement_tracker.ipynb\" target=\"_parent\"><img src=\"https://colab.research.google.com/assets/colab-badge.svg\" alt=\"Open In Colab\"/></a>"
      ]
    },
    {
      "cell_type": "code",
      "execution_count": null,
      "metadata": {
        "id": "aQVwsQG0CJ_b"
      },
      "outputs": [],
      "source": [
        "import matplotlib.pyplot as plt\n",
        "mode = 'a'\n",
        "if input('did you do this before type n or y') == 'n':\n",
        "  mode = 'w'\n",
        "swim_times = [int(input('what is your butterfly 25')),int(input('what is your backstorke 25')),int(input('what is your breaststroke 25')),int(input('what is your freestyle 25'))]\n",
        "if sum(swim_times)/len(swim_times) <5:\n",
        "  print('you are not that fast')\n",
        "  raise ValueError('you cant be that fast')\n",
        "if sum(swim_times)/len(swim_times) < 35:\n",
        "  if sum(swim_times)/len(swim_times) < 30:\n",
        "\n",
        "    if sum(swim_times)/len(swim_times) < 25:\n",
        "      if sum(swim_times)/len(swim_times) < 20:\n",
        "        if sum(swim_times)/len(swim_times) < 15:\n",
        "          print('you are a olympic person')\n",
        "        \n",
        "        else:\n",
        "          print('you are super duper good')\n",
        "      else:\n",
        "        print(\"you are intermediate\")\n",
        "    else:\n",
        "      print('you are a beeginer')\n",
        "  else:\n",
        "    print('you are a super begineer')\n",
        "else:\n",
        "  print('you just started swimming')\n",
        "plt.plot([15,15])\n",
        "plt.text(0,15,'olympic')\n",
        "plt.plot([20,20])\n",
        "plt.text(0,20,'advanced')\n",
        "plt.plot([25,25])\n",
        "plt.text(0,25,'intermediate')\n",
        "plt.plot([30,30])\n",
        "plt.text(0,30,'beeginer')\n",
        "plt.plot([35,35])\n",
        "plt.text(0,35,'starting swimming')\n",
        "plt.scatter(0.5,sum(swim_times)/len(swim_times))\n",
        "\n",
        "with open('times.txt',mode) as writer:\n",
        "  writer.write(str(sum(swim_times)/len(swim_times))+'\\n')\n"
      ]
    },
    {
      "cell_type": "code",
      "source": [
        "import matplotlib.pyplot as plt\n",
        "li = []\n",
        "i = 0\n",
        "with open('times.txt','r') as reader:\n",
        "  for line in reader:\n",
        "    i += 1\n",
        "    li.append(float(line))\n",
        "plt.plot(li)\n",
        "plt.plot([15 for x in range(0,i) ])\n",
        "plt.text(0,15,'olympic')\n",
        "plt.plot([20 for x in range(0,i)])\n",
        "plt.text(0,20,'advanced')\n",
        "plt.plot([25 for x in range(0,i)])\n",
        "plt.text(0,25,'intermediate')\n",
        "plt.plot([30 for x in range(0,i)])\n",
        "plt.text(0,30,'beeginer')\n",
        "plt.plot([35 for x in range(0,i)])\n",
        "plt.text(0,35,'starting swimming')\n",
        "print(li)"
      ],
      "metadata": {
        "id": "DQgSN7D9CU0C"
      },
      "execution_count": null,
      "outputs": []
    }
  ]
}